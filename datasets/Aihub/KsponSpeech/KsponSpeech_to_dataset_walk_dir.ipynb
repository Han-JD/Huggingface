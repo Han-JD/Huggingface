{
 "cells": [
  {
   "cell_type": "code",
   "execution_count": null,
   "metadata": {},
   "outputs": [],
   "source": [
    "from datasets import load_dataset, Audio\n",
    "import soundfile as sf\n",
    "import torch\n",
    "import torchaudio\n",
    "import librosa\n",
    "import os"
   ]
  },
  {
   "cell_type": "code",
   "execution_count": null,
   "metadata": {},
   "outputs": [],
   "source": [
    "ATA_DIR = \"YOUR_PATH_TO/KsponSpeech/\"\n",
    "TRAIN_DIR = \"KsponSpeech_data/\" # train_data folder"
   ]
  },
  {
   "cell_type": "code",
   "execution_count": null,
   "metadata": {},
   "outputs": [],
   "source": [
    "txt_ext = '.txt'\n",
    "audio_ext = '.pcm'\n",
    "\n",
    "audio_paths = list()\n",
    "transcripts = list()\n",
    "\n",
    "for root, dirs, files in os.walk(DATA_DIR + TRAIN_DIR):\n",
    "    for name in files:\n",
    "        if name.endswith(txt_ext):\n",
    "            file_path = os.path.join(root, name)\n",
    "            with open(file_path, 'r', encoding='cp949') as f:\n",
    "                transcripts.append(f.read())\n",
    "                file_path = file_path.split('.')[0] + audio_ext\n",
    "                audio_paths.append(file_path)"
   ]
  },
  {
   "cell_type": "code",
   "execution_count": null,
   "metadata": {},
   "outputs": [],
   "source": [
    "import csv\n",
    "with open('aihub_ksponSpeech.csv', 'w', newline='') as file:\n",
    "    writer = csv.writer(file)\n",
    "    writer.writerow([\"audio\", \"transcript\"])\n",
    "    for i in range(len(transcripts)):\n",
    "        writer.writerow([audio_paths[i], transcripts[i]])"
   ]
  },
  {
   "cell_type": "markdown",
   "metadata": {},
   "source": [
    "dataset = load_dataset('csv', data_files='aihub_ksponSpeech.csv', split=\"train\")"
   ]
  },
  {
   "cell_type": "code",
   "execution_count": null,
   "metadata": {},
   "outputs": [],
   "source": [
    "dataset = dataset.cast_column('audio', Audio())"
   ]
  },
  {
   "cell_type": "markdown",
   "metadata": {},
   "source": [
    "# Read in the file\n",
    "with open('aihub_ksponSpeech.csv', 'r') as file :\n",
    "    filedata = file.read()\n",
    "\n",
    "# Replace the target string\n",
    "filedata = filedata.replace('.pcm', '.wav')\n",
    "\n",
    "# Write the file out again\n",
    "with open('aihub_ksponSpeech.csv', 'w') as file:\n",
    "    file.write(filedata)"
   ]
  },
  {
   "cell_type": "code",
   "execution_count": null,
   "metadata": {},
   "outputs": [],
   "source": [
    "dataset = load_dataset('csv', data_files='aihub_ksponSpeech.csv', split=\"train\")"
   ]
  },
  {
   "cell_type": "markdown",
   "metadata": {},
   "source": [
    "eval data"
   ]
  },
  {
   "cell_type": "code",
   "execution_count": null,
   "metadata": {},
   "outputs": [],
   "source": [
    "DATA_DIR = \"/YOUR_PATH_TO/KsponSpeech/\"\n",
    "SCRIPT_DIR = \"KsponSpeech_scripts/\"\n",
    "FILE_DIR  = \"eval_clean.trn\"\n",
    "AUDIO_DIR = \"KsponSpeech_eval/eval_clean/\""
   ]
  },
  {
   "cell_type": "code",
   "execution_count": null,
   "metadata": {},
   "outputs": [],
   "source": [
    "trn_text = open(DATA_DIR + SCRIPT_DIR + FILE_DIR, 'r')\n",
    "\n",
    "with open('aihub_ksponSpeech_eval_clean.csv', 'w', newline='') as file:\n",
    "    writer = csv.writer(file)\n",
    "    writer.writerow([\"audio\", \"transcript\"])\n",
    "    for line in trn_text:\n",
    "        txt = line.strip()\n",
    "        txt = txt.replace('.pcm', '.wav')\n",
    "        writer.writerow([DATA_DIR + txt.split(' :: ')[0], txt.split(' :: ')[1]])"
   ]
  },
  {
   "cell_type": "code",
   "execution_count": null,
   "metadata": {},
   "outputs": [],
   "source": [
    "FILE_DIR  = \"eval_other.trn\""
   ]
  },
  {
   "cell_type": "code",
   "execution_count": null,
   "metadata": {},
   "outputs": [],
   "source": [
    "trn_text = open(DATA_DIR + SCRIPT_DIR + FILE_DIR, 'r')\n",
    "\n",
    "with open('aihub_ksponSpeech_eval_other.csv', 'w', newline='') as file:\n",
    "    writer = csv.writer(file)\n",
    "    writer.writerow([\"audio\", \"transcript\"])\n",
    "    for line in trn_text:\n",
    "        txt = line.strip()\n",
    "        txt = txt.replace('.pcm', '.wav')\n",
    "        writer.writerow([DATA_DIR + txt.split(' :: ')[0], txt.split(' :: ')[1]])"
   ]
  },
  {
   "cell_type": "markdown",
   "metadata": {},
   "source": [
    "Load datasets"
   ]
  },
  {
   "cell_type": "code",
   "execution_count": null,
   "metadata": {},
   "outputs": [],
   "source": [
    "data_files = {\"train\": \"aihub_ksponSpeech.csv\", \"test_clean\": \"aihub_ksponSpeech_eval_clean.csv\", \"test_other\":\"aihub_ksponSpeech_eval_other.csv\"}\n",
    "dataset = load_dataset(\"csv\", data_files=data_files)"
   ]
  },
  {
   "cell_type": "code",
   "execution_count": null,
   "metadata": {},
   "outputs": [],
   "source": [
    "dataset['train'] = dataset['train'].cast_column('audio', Audio())\n",
    "dataset['test_clean'] = dataset['test_clean'].cast_column('audio', Audio())\n",
    "dataset['test_other'] = dataset['test_other'].cast_column('audio', Audio())"
   ]
  },
  {
   "cell_type": "code",
   "execution_count": null,
   "metadata": {},
   "outputs": [],
   "source": [
    "dataset.save_to_disk(\"/YOUR_PATH_TO_SAVE_DATASETS/datasets/ksponSpeech\")"
   ]
  }
 ],
 "metadata": {
  "language_info": {
   "name": "python"
  },
  "orig_nbformat": 4
 },
 "nbformat": 4,
 "nbformat_minor": 2
}
