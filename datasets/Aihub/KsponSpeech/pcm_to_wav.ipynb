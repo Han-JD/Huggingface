{
 "cells": [
  {
   "cell_type": "code",
   "execution_count": null,
   "metadata": {},
   "outputs": [],
   "source": [
    "import os\n",
    "import ffmpeg\n",
    "from multiprocessing import Pool"
   ]
  },
  {
   "cell_type": "code",
   "execution_count": null,
   "metadata": {},
   "outputs": [],
   "source": [
    "DATA_DIR = \"YOUR_DATA_PATH\""
   ]
  },
  {
   "cell_type": "code",
   "execution_count": null,
   "metadata": {},
   "outputs": [],
   "source": [
    "audio_ext = '.pcm'\n",
    "audio_paths = list()\n",
    "\n",
    "for root, dirs, files in os.walk(DATA_DIR):\n",
    "    for name in files:\n",
    "        if name.endswith(audio_ext):\n",
    "            audio_paths.append(os.path.join(root, name))"
   ]
  },
  {
   "cell_type": "code",
   "execution_count": null,
   "metadata": {},
   "outputs": [],
   "source": [
    "len(audio_paths)"
   ]
  },
  {
   "cell_type": "code",
   "execution_count": null,
   "metadata": {},
   "outputs": [],
   "source": [
    "def pcm_to_wav(file_path):\n",
    "    output_name = file_path.split('.')[0]+'.wav'\n",
    "    try:\n",
    "        stream = ffmpeg.input(file_path, ar=16000, ac=1, f='s16le')\n",
    "        stream = ffmpeg.output(stream,\n",
    "                                output_name,\n",
    "                                format='wav',\n",
    "                                bits_per_raw_sample=16,\n",
    "                                ac=1,\n",
    "                                ar=16000)\n",
    "        ffmpeg.run(stream, overwrite_output=True, quiet=True)\n",
    "    except Exception as e:\n",
    "        print(f\"file {file_path} got error {e}\")"
   ]
  },
  {
   "cell_type": "code",
   "execution_count": null,
   "metadata": {},
   "outputs": [],
   "source": [
    "if __name__=='__main__':\n",
    "    pool = Pool()\n",
    "    pool.map(pcm_to_wav, audio_paths)"
   ]
  }
 ],
 "metadata": {
  "kernelspec": {
   "display_name": "Python 3.8.9 64-bit",
   "language": "python",
   "name": "python3"
  },
  "language_info": {
   "name": "python",
   "version": "3.8.9"
  },
  "orig_nbformat": 4,
  "vscode": {
   "interpreter": {
    "hash": "31f2aee4e71d21fbe5cf8b01ff0e069b9275f58929596ceb00d14d90e3e16cd6"
   }
  }
 },
 "nbformat": 4,
 "nbformat_minor": 2
}
